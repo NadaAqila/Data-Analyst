{
 "cells": [
  {
   "cell_type": "code",
   "execution_count": 24,
   "metadata": {},
   "outputs": [
    {
     "data": {
      "text/html": [
       "<div>\n",
       "<style scoped>\n",
       "    .dataframe tbody tr th:only-of-type {\n",
       "        vertical-align: middle;\n",
       "    }\n",
       "\n",
       "    .dataframe tbody tr th {\n",
       "        vertical-align: top;\n",
       "    }\n",
       "\n",
       "    .dataframe thead th {\n",
       "        text-align: right;\n",
       "    }\n",
       "</style>\n",
       "<table border=\"1\" class=\"dataframe\">\n",
       "  <thead>\n",
       "    <tr style=\"text-align: right;\">\n",
       "      <th></th>\n",
       "      <th>product_name</th>\n",
       "      <th>product_currency</th>\n",
       "      <th>product_price</th>\n",
       "      <th>product_sold</th>\n",
       "    </tr>\n",
       "  </thead>\n",
       "  <tbody>\n",
       "    <tr>\n",
       "      <th>0</th>\n",
       "      <td>adidas RUNNING Sepatu Ultraboost 20 FV8319</td>\n",
       "      <td>Rp</td>\n",
       "      <td>1500000.0</td>\n",
       "      <td>17 Terjual</td>\n",
       "    </tr>\n",
       "    <tr>\n",
       "      <th>1</th>\n",
       "      <td>adidas ORIGINALS ZX 2K Boost Pure Shoes Sneake...</td>\n",
       "      <td>Rp</td>\n",
       "      <td>1650000.0</td>\n",
       "      <td>165 Terjual</td>\n",
       "    </tr>\n",
       "    <tr>\n",
       "      <th>2</th>\n",
       "      <td>adidas RUNNING Galaxar Run Shoes FW1187</td>\n",
       "      <td>Rp</td>\n",
       "      <td>1300000.0</td>\n",
       "      <td>109 Terjual</td>\n",
       "    </tr>\n",
       "    <tr>\n",
       "      <th>3</th>\n",
       "      <td>adidas RUNNING Sepatu Run Falcon 2.0 FY5943</td>\n",
       "      <td>Rp</td>\n",
       "      <td>850000.0</td>\n",
       "      <td>650 Terjual</td>\n",
       "    </tr>\n",
       "    <tr>\n",
       "      <th>4</th>\n",
       "      <td>adidas ORIGINALS Sepatu Swift Run Sneaker B37725</td>\n",
       "      <td>Rp</td>\n",
       "      <td>750000.0</td>\n",
       "      <td>96 Terjual</td>\n",
       "    </tr>\n",
       "    <tr>\n",
       "      <th>...</th>\n",
       "      <td>...</td>\n",
       "      <td>...</td>\n",
       "      <td>...</td>\n",
       "      <td>...</td>\n",
       "    </tr>\n",
       "    <tr>\n",
       "      <th>212</th>\n",
       "      <td>adidas SKATEBOARDING Sepatu Daily 3.0 GX1752</td>\n",
       "      <td>Rp</td>\n",
       "      <td>900000.0</td>\n",
       "      <td>13 Terjual</td>\n",
       "    </tr>\n",
       "    <tr>\n",
       "      <th>213</th>\n",
       "      <td>adidas ORIGINALS Sepatu Superstar Sneaker H00185</td>\n",
       "      <td>Rp</td>\n",
       "      <td>1200000.0</td>\n",
       "      <td>30 Terjual</td>\n",
       "    </tr>\n",
       "    <tr>\n",
       "      <th>214</th>\n",
       "      <td>adidas Essentials Big Logo Sweatshirt HL2295</td>\n",
       "      <td>Rp</td>\n",
       "      <td>560000.0</td>\n",
       "      <td>8 Terjual</td>\n",
       "    </tr>\n",
       "    <tr>\n",
       "      <th>215</th>\n",
       "      <td>adidas ORIGINALS Track Jacket Adicolor Classic...</td>\n",
       "      <td>Rp</td>\n",
       "      <td>1600000.0</td>\n",
       "      <td>102 Terjual</td>\n",
       "    </tr>\n",
       "    <tr>\n",
       "      <th>216</th>\n",
       "      <td>adidas ORIGINALS Track Jacket Adicolor Classic...</td>\n",
       "      <td>NaN</td>\n",
       "      <td>NaN</td>\n",
       "      <td>NaN</td>\n",
       "    </tr>\n",
       "  </tbody>\n",
       "</table>\n",
       "<p>217 rows × 4 columns</p>\n",
       "</div>"
      ],
      "text/plain": [
       "                                          product_name product_currency  \\\n",
       "0           adidas RUNNING Sepatu Ultraboost 20 FV8319               Rp   \n",
       "1    adidas ORIGINALS ZX 2K Boost Pure Shoes Sneake...               Rp   \n",
       "2              adidas RUNNING Galaxar Run Shoes FW1187               Rp   \n",
       "3          adidas RUNNING Sepatu Run Falcon 2.0 FY5943               Rp   \n",
       "4     adidas ORIGINALS Sepatu Swift Run Sneaker B37725               Rp   \n",
       "..                                                 ...              ...   \n",
       "212       adidas SKATEBOARDING Sepatu Daily 3.0 GX1752               Rp   \n",
       "213   adidas ORIGINALS Sepatu Superstar Sneaker H00185               Rp   \n",
       "214       adidas Essentials Big Logo Sweatshirt HL2295               Rp   \n",
       "215  adidas ORIGINALS Track Jacket Adicolor Classic...               Rp   \n",
       "216  adidas ORIGINALS Track Jacket Adicolor Classic...              NaN   \n",
       "\n",
       "     product_price product_sold  \n",
       "0        1500000.0   17 Terjual  \n",
       "1        1650000.0  165 Terjual  \n",
       "2        1300000.0  109 Terjual  \n",
       "3         850000.0  650 Terjual  \n",
       "4         750000.0   96 Terjual  \n",
       "..             ...          ...  \n",
       "212       900000.0   13 Terjual  \n",
       "213      1200000.0   30 Terjual  \n",
       "214       560000.0    8 Terjual  \n",
       "215      1600000.0  102 Terjual  \n",
       "216            NaN          NaN  \n",
       "\n",
       "[217 rows x 4 columns]"
      ]
     },
     "execution_count": 24,
     "metadata": {},
     "output_type": "execute_result"
    }
   ],
   "source": [
    "import pandas as pd\n",
    "import numpy as np\n",
    "import matplotlib.pyplot as plt\n",
    "import seaborn as sns\n",
    "\n",
    "df = pd.read_csv('adidas_data1.csv')\n",
    "df"
   ]
  },
  {
   "cell_type": "code",
   "execution_count": 2,
   "metadata": {},
   "outputs": [
    {
     "data": {
      "text/html": [
       "<div>\n",
       "<style scoped>\n",
       "    .dataframe tbody tr th:only-of-type {\n",
       "        vertical-align: middle;\n",
       "    }\n",
       "\n",
       "    .dataframe tbody tr th {\n",
       "        vertical-align: top;\n",
       "    }\n",
       "\n",
       "    .dataframe thead th {\n",
       "        text-align: right;\n",
       "    }\n",
       "</style>\n",
       "<table border=\"1\" class=\"dataframe\">\n",
       "  <thead>\n",
       "    <tr style=\"text-align: right;\">\n",
       "      <th></th>\n",
       "      <th>product_name</th>\n",
       "      <th>product_currency</th>\n",
       "      <th>product_price</th>\n",
       "      <th>product_sold</th>\n",
       "    </tr>\n",
       "  </thead>\n",
       "  <tbody>\n",
       "    <tr>\n",
       "      <th>0</th>\n",
       "      <td>adidas RUNNING Sepatu Ultraboost 20 FV8319</td>\n",
       "      <td>Rp</td>\n",
       "      <td>1500000.0</td>\n",
       "      <td>17</td>\n",
       "    </tr>\n",
       "    <tr>\n",
       "      <th>1</th>\n",
       "      <td>adidas ORIGINALS ZX 2K Boost Pure Shoes Sneake...</td>\n",
       "      <td>Rp</td>\n",
       "      <td>1650000.0</td>\n",
       "      <td>165</td>\n",
       "    </tr>\n",
       "    <tr>\n",
       "      <th>2</th>\n",
       "      <td>adidas RUNNING Galaxar Run Shoes FW1187</td>\n",
       "      <td>Rp</td>\n",
       "      <td>1300000.0</td>\n",
       "      <td>109</td>\n",
       "    </tr>\n",
       "    <tr>\n",
       "      <th>3</th>\n",
       "      <td>adidas RUNNING Sepatu Run Falcon 2.0 FY5943</td>\n",
       "      <td>Rp</td>\n",
       "      <td>850000.0</td>\n",
       "      <td>650</td>\n",
       "    </tr>\n",
       "    <tr>\n",
       "      <th>4</th>\n",
       "      <td>adidas ORIGINALS Sepatu Swift Run Sneaker B37725</td>\n",
       "      <td>Rp</td>\n",
       "      <td>750000.0</td>\n",
       "      <td>96</td>\n",
       "    </tr>\n",
       "    <tr>\n",
       "      <th>...</th>\n",
       "      <td>...</td>\n",
       "      <td>...</td>\n",
       "      <td>...</td>\n",
       "      <td>...</td>\n",
       "    </tr>\n",
       "    <tr>\n",
       "      <th>212</th>\n",
       "      <td>adidas SKATEBOARDING Sepatu Daily 3.0 GX1752</td>\n",
       "      <td>Rp</td>\n",
       "      <td>900000.0</td>\n",
       "      <td>13</td>\n",
       "    </tr>\n",
       "    <tr>\n",
       "      <th>213</th>\n",
       "      <td>adidas ORIGINALS Sepatu Superstar Sneaker H00185</td>\n",
       "      <td>Rp</td>\n",
       "      <td>1200000.0</td>\n",
       "      <td>30</td>\n",
       "    </tr>\n",
       "    <tr>\n",
       "      <th>214</th>\n",
       "      <td>adidas Essentials Big Logo Sweatshirt HL2295</td>\n",
       "      <td>Rp</td>\n",
       "      <td>560000.0</td>\n",
       "      <td>8</td>\n",
       "    </tr>\n",
       "    <tr>\n",
       "      <th>215</th>\n",
       "      <td>adidas ORIGINALS Track Jacket Adicolor Classic...</td>\n",
       "      <td>Rp</td>\n",
       "      <td>1600000.0</td>\n",
       "      <td>102</td>\n",
       "    </tr>\n",
       "    <tr>\n",
       "      <th>216</th>\n",
       "      <td>adidas ORIGINALS Track Jacket Adicolor Classic...</td>\n",
       "      <td>NaN</td>\n",
       "      <td>NaN</td>\n",
       "      <td>NaN</td>\n",
       "    </tr>\n",
       "  </tbody>\n",
       "</table>\n",
       "<p>217 rows × 4 columns</p>\n",
       "</div>"
      ],
      "text/plain": [
       "                                          product_name product_currency  \\\n",
       "0           adidas RUNNING Sepatu Ultraboost 20 FV8319               Rp   \n",
       "1    adidas ORIGINALS ZX 2K Boost Pure Shoes Sneake...               Rp   \n",
       "2              adidas RUNNING Galaxar Run Shoes FW1187               Rp   \n",
       "3          adidas RUNNING Sepatu Run Falcon 2.0 FY5943               Rp   \n",
       "4     adidas ORIGINALS Sepatu Swift Run Sneaker B37725               Rp   \n",
       "..                                                 ...              ...   \n",
       "212       adidas SKATEBOARDING Sepatu Daily 3.0 GX1752               Rp   \n",
       "213   adidas ORIGINALS Sepatu Superstar Sneaker H00185               Rp   \n",
       "214       adidas Essentials Big Logo Sweatshirt HL2295               Rp   \n",
       "215  adidas ORIGINALS Track Jacket Adicolor Classic...               Rp   \n",
       "216  adidas ORIGINALS Track Jacket Adicolor Classic...              NaN   \n",
       "\n",
       "     product_price product_sold  \n",
       "0        1500000.0          17   \n",
       "1        1650000.0         165   \n",
       "2        1300000.0         109   \n",
       "3         850000.0         650   \n",
       "4         750000.0          96   \n",
       "..             ...          ...  \n",
       "212       900000.0          13   \n",
       "213      1200000.0          30   \n",
       "214       560000.0           8   \n",
       "215      1600000.0         102   \n",
       "216            NaN          NaN  \n",
       "\n",
       "[217 rows x 4 columns]"
      ]
     },
     "execution_count": 2,
     "metadata": {},
     "output_type": "execute_result"
    }
   ],
   "source": [
    "#Menghilangkan tulisan \"Terjual\" pada kolom product_sold\n",
    "df['product_sold'] = df['product_sold'].str.replace('Terjual', '')\n",
    "df"
   ]
  },
  {
   "cell_type": "code",
   "execution_count": 3,
   "metadata": {},
   "outputs": [
    {
     "data": {
      "text/html": [
       "<div>\n",
       "<style scoped>\n",
       "    .dataframe tbody tr th:only-of-type {\n",
       "        vertical-align: middle;\n",
       "    }\n",
       "\n",
       "    .dataframe tbody tr th {\n",
       "        vertical-align: top;\n",
       "    }\n",
       "\n",
       "    .dataframe thead th {\n",
       "        text-align: right;\n",
       "    }\n",
       "</style>\n",
       "<table border=\"1\" class=\"dataframe\">\n",
       "  <thead>\n",
       "    <tr style=\"text-align: right;\">\n",
       "      <th></th>\n",
       "      <th>product_name</th>\n",
       "      <th>product_currency</th>\n",
       "      <th>product_price</th>\n",
       "      <th>product_sold</th>\n",
       "    </tr>\n",
       "  </thead>\n",
       "  <tbody>\n",
       "    <tr>\n",
       "      <th>0</th>\n",
       "      <td>False</td>\n",
       "      <td>False</td>\n",
       "      <td>False</td>\n",
       "      <td>False</td>\n",
       "    </tr>\n",
       "    <tr>\n",
       "      <th>1</th>\n",
       "      <td>False</td>\n",
       "      <td>False</td>\n",
       "      <td>False</td>\n",
       "      <td>False</td>\n",
       "    </tr>\n",
       "    <tr>\n",
       "      <th>2</th>\n",
       "      <td>False</td>\n",
       "      <td>False</td>\n",
       "      <td>False</td>\n",
       "      <td>False</td>\n",
       "    </tr>\n",
       "    <tr>\n",
       "      <th>3</th>\n",
       "      <td>False</td>\n",
       "      <td>False</td>\n",
       "      <td>False</td>\n",
       "      <td>False</td>\n",
       "    </tr>\n",
       "    <tr>\n",
       "      <th>4</th>\n",
       "      <td>False</td>\n",
       "      <td>False</td>\n",
       "      <td>False</td>\n",
       "      <td>False</td>\n",
       "    </tr>\n",
       "    <tr>\n",
       "      <th>...</th>\n",
       "      <td>...</td>\n",
       "      <td>...</td>\n",
       "      <td>...</td>\n",
       "      <td>...</td>\n",
       "    </tr>\n",
       "    <tr>\n",
       "      <th>212</th>\n",
       "      <td>False</td>\n",
       "      <td>False</td>\n",
       "      <td>False</td>\n",
       "      <td>False</td>\n",
       "    </tr>\n",
       "    <tr>\n",
       "      <th>213</th>\n",
       "      <td>False</td>\n",
       "      <td>False</td>\n",
       "      <td>False</td>\n",
       "      <td>False</td>\n",
       "    </tr>\n",
       "    <tr>\n",
       "      <th>214</th>\n",
       "      <td>False</td>\n",
       "      <td>False</td>\n",
       "      <td>False</td>\n",
       "      <td>False</td>\n",
       "    </tr>\n",
       "    <tr>\n",
       "      <th>215</th>\n",
       "      <td>False</td>\n",
       "      <td>False</td>\n",
       "      <td>False</td>\n",
       "      <td>False</td>\n",
       "    </tr>\n",
       "    <tr>\n",
       "      <th>216</th>\n",
       "      <td>False</td>\n",
       "      <td>True</td>\n",
       "      <td>True</td>\n",
       "      <td>True</td>\n",
       "    </tr>\n",
       "  </tbody>\n",
       "</table>\n",
       "<p>217 rows × 4 columns</p>\n",
       "</div>"
      ],
      "text/plain": [
       "     product_name  product_currency  product_price  product_sold\n",
       "0           False             False          False         False\n",
       "1           False             False          False         False\n",
       "2           False             False          False         False\n",
       "3           False             False          False         False\n",
       "4           False             False          False         False\n",
       "..            ...               ...            ...           ...\n",
       "212         False             False          False         False\n",
       "213         False             False          False         False\n",
       "214         False             False          False         False\n",
       "215         False             False          False         False\n",
       "216         False              True           True          True\n",
       "\n",
       "[217 rows x 4 columns]"
      ]
     },
     "execution_count": 3,
     "metadata": {},
     "output_type": "execute_result"
    }
   ],
   "source": [
    "#Mengecek Missing Value\n",
    "df.isna()"
   ]
  },
  {
   "cell_type": "code",
   "execution_count": 4,
   "metadata": {},
   "outputs": [],
   "source": [
    "#Menghilangkan Missing Value\n",
    "df1 = df.dropna()"
   ]
  },
  {
   "cell_type": "code",
   "execution_count": 5,
   "metadata": {},
   "outputs": [
    {
     "name": "stdout",
     "output_type": "stream",
     "text": [
      "<class 'pandas.core.frame.DataFrame'>\n",
      "Int64Index: 216 entries, 0 to 215\n",
      "Data columns (total 4 columns):\n",
      " #   Column            Non-Null Count  Dtype  \n",
      "---  ------            --------------  -----  \n",
      " 0   product_name      216 non-null    object \n",
      " 1   product_currency  216 non-null    object \n",
      " 2   product_price     216 non-null    float64\n",
      " 3   product_sold      216 non-null    object \n",
      "dtypes: float64(1), object(3)\n",
      "memory usage: 8.4+ KB\n"
     ]
    }
   ],
   "source": [
    "#Menegecek Informasi yang dimiliki oleh dataset, seperti tipe data\n",
    "df1.info()"
   ]
  },
  {
   "cell_type": "code",
   "execution_count": 13,
   "metadata": {},
   "outputs": [
    {
     "name": "stderr",
     "output_type": "stream",
     "text": [
      "C:\\Users\\user\\AppData\\Local\\Temp\\ipykernel_10576\\1200455511.py:2: SettingWithCopyWarning: \n",
      "A value is trying to be set on a copy of a slice from a DataFrame.\n",
      "Try using .loc[row_indexer,col_indexer] = value instead\n",
      "\n",
      "See the caveats in the documentation: https://pandas.pydata.org/pandas-docs/stable/user_guide/indexing.html#returning-a-view-versus-a-copy\n",
      "  df1[\"product_price\"] = df1[\"product_price\"].astype(\"int\")\n"
     ]
    }
   ],
   "source": [
    "#Mengubah tipe data pada kolom product_price dari float menjadi integer\n",
    "df1[\"product_price\"] = df1[\"product_price\"].astype(\"int\")"
   ]
  },
  {
   "cell_type": "code",
   "execution_count": 6,
   "metadata": {},
   "outputs": [
    {
     "name": "stderr",
     "output_type": "stream",
     "text": [
      "C:\\Users\\user\\AppData\\Local\\Temp\\ipykernel_10576\\2025974310.py:2: SettingWithCopyWarning: \n",
      "A value is trying to be set on a copy of a slice from a DataFrame.\n",
      "Try using .loc[row_indexer,col_indexer] = value instead\n",
      "\n",
      "See the caveats in the documentation: https://pandas.pydata.org/pandas-docs/stable/user_guide/indexing.html#returning-a-view-versus-a-copy\n",
      "  df1[\"product_sold\"] = df1[\"product_sold\"].astype(\"int\")\n"
     ]
    }
   ],
   "source": [
    "#Mengubah tipe data pada kolom product_sold dari object menjadi integer\n",
    "df1[\"product_sold\"] = df1[\"product_sold\"].astype(\"int\")"
   ]
  },
  {
   "cell_type": "code",
   "execution_count": 14,
   "metadata": {},
   "outputs": [
    {
     "name": "stdout",
     "output_type": "stream",
     "text": [
      "<class 'pandas.core.frame.DataFrame'>\n",
      "Int64Index: 216 entries, 0 to 215\n",
      "Data columns (total 4 columns):\n",
      " #   Column            Non-Null Count  Dtype \n",
      "---  ------            --------------  ----- \n",
      " 0   product_name      216 non-null    object\n",
      " 1   product_currency  216 non-null    object\n",
      " 2   product_price     216 non-null    int32 \n",
      " 3   product_sold      216 non-null    int32 \n",
      "dtypes: int32(2), object(2)\n",
      "memory usage: 6.8+ KB\n"
     ]
    }
   ],
   "source": [
    "df1.info()"
   ]
  },
  {
   "cell_type": "code",
   "execution_count": 11,
   "metadata": {},
   "outputs": [
    {
     "data": {
      "text/plain": [
       "True"
      ]
     },
     "execution_count": 11,
     "metadata": {},
     "output_type": "execute_result"
    }
   ],
   "source": [
    "#Mengecek Data Duplikat\n",
    "df.duplicated().any()"
   ]
  },
  {
   "cell_type": "code",
   "execution_count": 17,
   "metadata": {},
   "outputs": [],
   "source": [
    "#Drop Data Duplikat\n",
    "df2 = df1.drop_duplicates()"
   ]
  },
  {
   "cell_type": "code",
   "execution_count": 8,
   "metadata": {},
   "outputs": [
    {
     "data": {
      "text/html": [
       "<div>\n",
       "<style scoped>\n",
       "    .dataframe tbody tr th:only-of-type {\n",
       "        vertical-align: middle;\n",
       "    }\n",
       "\n",
       "    .dataframe tbody tr th {\n",
       "        vertical-align: top;\n",
       "    }\n",
       "\n",
       "    .dataframe thead th {\n",
       "        text-align: right;\n",
       "    }\n",
       "</style>\n",
       "<table border=\"1\" class=\"dataframe\">\n",
       "  <thead>\n",
       "    <tr style=\"text-align: right;\">\n",
       "      <th></th>\n",
       "      <th>product_price</th>\n",
       "      <th>product_sold</th>\n",
       "    </tr>\n",
       "  </thead>\n",
       "  <tbody>\n",
       "    <tr>\n",
       "      <th>count</th>\n",
       "      <td>2.160000e+02</td>\n",
       "      <td>216.000000</td>\n",
       "    </tr>\n",
       "    <tr>\n",
       "      <th>mean</th>\n",
       "      <td>1.094213e+06</td>\n",
       "      <td>108.611111</td>\n",
       "    </tr>\n",
       "    <tr>\n",
       "      <th>std</th>\n",
       "      <td>4.344526e+05</td>\n",
       "      <td>127.816644</td>\n",
       "    </tr>\n",
       "    <tr>\n",
       "      <th>min</th>\n",
       "      <td>3.800000e+05</td>\n",
       "      <td>5.000000</td>\n",
       "    </tr>\n",
       "    <tr>\n",
       "      <th>25%</th>\n",
       "      <td>8.000000e+05</td>\n",
       "      <td>18.000000</td>\n",
       "    </tr>\n",
       "    <tr>\n",
       "      <th>50%</th>\n",
       "      <td>9.875000e+05</td>\n",
       "      <td>66.000000</td>\n",
       "    </tr>\n",
       "    <tr>\n",
       "      <th>75%</th>\n",
       "      <td>1.425000e+06</td>\n",
       "      <td>142.000000</td>\n",
       "    </tr>\n",
       "    <tr>\n",
       "      <th>max</th>\n",
       "      <td>2.475000e+06</td>\n",
       "      <td>650.000000</td>\n",
       "    </tr>\n",
       "  </tbody>\n",
       "</table>\n",
       "</div>"
      ],
      "text/plain": [
       "       product_price  product_sold\n",
       "count   2.160000e+02    216.000000\n",
       "mean    1.094213e+06    108.611111\n",
       "std     4.344526e+05    127.816644\n",
       "min     3.800000e+05      5.000000\n",
       "25%     8.000000e+05     18.000000\n",
       "50%     9.875000e+05     66.000000\n",
       "75%     1.425000e+06    142.000000\n",
       "max     2.475000e+06    650.000000"
      ]
     },
     "execution_count": 8,
     "metadata": {},
     "output_type": "execute_result"
    }
   ],
   "source": [
    "df1.describe()"
   ]
  },
  {
   "attachments": {},
   "cell_type": "markdown",
   "metadata": {},
   "source": [
    "Question"
   ]
  },
  {
   "cell_type": "code",
   "execution_count": 18,
   "metadata": {},
   "outputs": [
    {
     "data": {
      "text/html": [
       "<div>\n",
       "<style scoped>\n",
       "    .dataframe tbody tr th:only-of-type {\n",
       "        vertical-align: middle;\n",
       "    }\n",
       "\n",
       "    .dataframe tbody tr th {\n",
       "        vertical-align: top;\n",
       "    }\n",
       "\n",
       "    .dataframe thead th {\n",
       "        text-align: right;\n",
       "    }\n",
       "</style>\n",
       "<table border=\"1\" class=\"dataframe\">\n",
       "  <thead>\n",
       "    <tr style=\"text-align: right;\">\n",
       "      <th></th>\n",
       "      <th>product_name</th>\n",
       "      <th>product_currency</th>\n",
       "      <th>product_price</th>\n",
       "      <th>product_sold</th>\n",
       "    </tr>\n",
       "  </thead>\n",
       "  <tbody>\n",
       "    <tr>\n",
       "      <th>17</th>\n",
       "      <td>adidas RUNNING Ultraboost 5.0 DNA Shoes GZ0446</td>\n",
       "      <td>Rp</td>\n",
       "      <td>2475000</td>\n",
       "      <td>49</td>\n",
       "    </tr>\n",
       "  </tbody>\n",
       "</table>\n",
       "</div>"
      ],
      "text/plain": [
       "                                      product_name product_currency  \\\n",
       "17  adidas RUNNING Ultraboost 5.0 DNA Shoes GZ0446               Rp   \n",
       "\n",
       "    product_price  product_sold  \n",
       "17        2475000            49  "
      ]
     },
     "execution_count": 18,
     "metadata": {},
     "output_type": "execute_result"
    }
   ],
   "source": [
    "#1 Which is the most Expensive Shoes \n",
    "df2[df2['product_price'] == df2['product_price'].max()]"
   ]
  },
  {
   "cell_type": "code",
   "execution_count": 74,
   "metadata": {},
   "outputs": [
    {
     "data": {
      "image/png": "[encoded data removed]",
      "text/plain": [
       "<Figure size 432x288 with 1 Axes>"
      ]
     },
     "metadata": {
      "needs_background": "light"
     },
     "output_type": "display_data"
    }
   ],
   "source": [
    "#TOP 5 Expensive Product\n",
    "top5 = df2.sort_values('product_price', ascending=False).head(5)\n",
    "\n",
    "x = range(5)\n",
    "plt.bar(x, top5.product_price)\n",
    "plt.xticks(x, top5.product_name, rotation='vertical')\n",
    "plt.title('TOP 5')\n",
    "plt.ylabel('Sold out')\n",
    "plt.show()"
   ]
  },
  {
   "cell_type": "code",
   "execution_count": 73,
   "metadata": {},
   "outputs": [
    {
     "data": {
      "text/html": [
       "<div>\n",
       "<style scoped>\n",
       "    .dataframe tbody tr th:only-of-type {\n",
       "        vertical-align: middle;\n",
       "    }\n",
       "\n",
       "    .dataframe tbody tr th {\n",
       "        vertical-align: top;\n",
       "    }\n",
       "\n",
       "    .dataframe thead th {\n",
       "        text-align: right;\n",
       "    }\n",
       "</style>\n",
       "<table border=\"1\" class=\"dataframe\">\n",
       "  <thead>\n",
       "    <tr style=\"text-align: right;\">\n",
       "      <th></th>\n",
       "      <th>product_name</th>\n",
       "      <th>product_currency</th>\n",
       "      <th>product_price</th>\n",
       "      <th>product_sold</th>\n",
       "    </tr>\n",
       "  </thead>\n",
       "  <tbody>\n",
       "    <tr>\n",
       "      <th>3</th>\n",
       "      <td>adidas RUNNING Sepatu Run Falcon 2.0 FY5943</td>\n",
       "      <td>Rp</td>\n",
       "      <td>850000</td>\n",
       "      <td>650</td>\n",
       "    </tr>\n",
       "  </tbody>\n",
       "</table>\n",
       "</div>"
      ],
      "text/plain": [
       "                                  product_name product_currency  \\\n",
       "3  adidas RUNNING Sepatu Run Falcon 2.0 FY5943               Rp   \n",
       "\n",
       "   product_price  product_sold  \n",
       "3         850000           650  "
      ]
     },
     "execution_count": 73,
     "metadata": {},
     "output_type": "execute_result"
    }
   ],
   "source": [
    "#2 Which is the highest sold out shoes\n",
    "df2[df2['product_sold'] == df2['product_sold'].max()]"
   ]
  },
  {
   "cell_type": "code",
   "execution_count": 81,
   "metadata": {},
   "outputs": [
    {
     "data": {
      "image/png": "[encoded data removed]",
      "text/plain": [
       "<Figure size 432x288 with 1 Axes>"
      ]
     },
     "metadata": {
      "needs_background": "light"
     },
     "output_type": "display_data"
    }
   ],
   "source": [
    "#TOP 5 Product The Most Sold Out\n",
    "top5 = df2.sort_values('product_sold', ascending=False).head(5)\n",
    "\n",
    "x = range(5)\n",
    "plt.bar(x, top5.product_sold)\n",
    "plt.xticks(x, top5.product_name, rotation='vertical')\n",
    "plt.title('TOP 5')\n",
    "plt.ylabel('Sold out')\n",
    "plt.show()"
   ]
  },
  {
   "cell_type": "code",
   "execution_count": 20,
   "metadata": {},
   "outputs": [
    {
     "data": {
      "text/html": [
       "<div>\n",
       "<style scoped>\n",
       "    .dataframe tbody tr th:only-of-type {\n",
       "        vertical-align: middle;\n",
       "    }\n",
       "\n",
       "    .dataframe tbody tr th {\n",
       "        vertical-align: top;\n",
       "    }\n",
       "\n",
       "    .dataframe thead th {\n",
       "        text-align: right;\n",
       "    }\n",
       "</style>\n",
       "<table border=\"1\" class=\"dataframe\">\n",
       "  <thead>\n",
       "    <tr style=\"text-align: right;\">\n",
       "      <th></th>\n",
       "      <th>product_name</th>\n",
       "      <th>product_currency</th>\n",
       "      <th>product_price</th>\n",
       "      <th>product_sold</th>\n",
       "    </tr>\n",
       "  </thead>\n",
       "  <tbody>\n",
       "    <tr>\n",
       "      <th>39</th>\n",
       "      <td>adidas ORIGINALS Tas Festival Adicolor Classic...</td>\n",
       "      <td>Rp</td>\n",
       "      <td>380000</td>\n",
       "      <td>23</td>\n",
       "    </tr>\n",
       "  </tbody>\n",
       "</table>\n",
       "</div>"
      ],
      "text/plain": [
       "                                         product_name product_currency  \\\n",
       "39  adidas ORIGINALS Tas Festival Adicolor Classic...               Rp   \n",
       "\n",
       "    product_price  product_sold  \n",
       "39         380000            23  "
      ]
     },
     "execution_count": 20,
     "metadata": {},
     "output_type": "execute_result"
    }
   ],
   "source": [
    "#3 Which is the cheapest shoes\n",
    "df2[df2['product_price'] == df2['product_price'].min()]"
   ]
  },
  {
   "cell_type": "code",
   "execution_count": 80,
   "metadata": {},
   "outputs": [
    {
     "data": {
      "image/png": "[encoded data removed]",
      "text/plain": [
       "<Figure size 432x288 with 1 Axes>"
      ]
     },
     "metadata": {
      "needs_background": "light"
     },
     "output_type": "display_data"
    }
   ],
   "source": [
    "#TOP 5 Cheapest Product\n",
    "top5 = df2.sort_values('product_price', ascending=True).head(5)\n",
    "\n",
    "x = range(5)\n",
    "plt.bar(x, top5.product_price)\n",
    "plt.xticks(x, top5.product_name, rotation='vertical')\n",
    "plt.title('TOP 5')\n",
    "plt.ylabel('Sold out')\n",
    "plt.show()"
   ]
  },
  {
   "cell_type": "code",
   "execution_count": 22,
   "metadata": {},
   "outputs": [
    {
     "data": {
      "text/html": [
       "<div>\n",
       "<style scoped>\n",
       "    .dataframe tbody tr th:only-of-type {\n",
       "        vertical-align: middle;\n",
       "    }\n",
       "\n",
       "    .dataframe tbody tr th {\n",
       "        vertical-align: top;\n",
       "    }\n",
       "\n",
       "    .dataframe thead th {\n",
       "        text-align: right;\n",
       "    }\n",
       "</style>\n",
       "<table border=\"1\" class=\"dataframe\">\n",
       "  <thead>\n",
       "    <tr style=\"text-align: right;\">\n",
       "      <th></th>\n",
       "      <th>product_name</th>\n",
       "      <th>product_currency</th>\n",
       "      <th>product_price</th>\n",
       "      <th>product_sold</th>\n",
       "    </tr>\n",
       "  </thead>\n",
       "  <tbody>\n",
       "    <tr>\n",
       "      <th>30</th>\n",
       "      <td>adidas ORIGINALS Sepatu Superstar Sneaker GX9877</td>\n",
       "      <td>Rp</td>\n",
       "      <td>1700000</td>\n",
       "      <td>5</td>\n",
       "    </tr>\n",
       "  </tbody>\n",
       "</table>\n",
       "</div>"
      ],
      "text/plain": [
       "                                        product_name product_currency  \\\n",
       "30  adidas ORIGINALS Sepatu Superstar Sneaker GX9877               Rp   \n",
       "\n",
       "    product_price  product_sold  \n",
       "30        1700000             5  "
      ]
     },
     "execution_count": 22,
     "metadata": {},
     "output_type": "execute_result"
    }
   ],
   "source": [
    "#4 Which is the lowest sold out shoes\n",
    "df2[df2['product_sold'] == df2['product_sold'].min()]"
   ]
  },
  {
   "cell_type": "code",
   "execution_count": 82,
   "metadata": {},
   "outputs": [
    {
     "data": {
      "image/png": "[encoded data removed]",
      "text/plain": [
       "<Figure size 432x288 with 1 Axes>"
      ]
     },
     "metadata": {
      "needs_background": "light"
     },
     "output_type": "display_data"
    }
   ],
   "source": [
    "#TOP 5 Product The Less Sold Out\n",
    "top5 = df2.sort_values('product_sold', ascending=True).head(5)\n",
    "\n",
    "x = range(5)\n",
    "plt.bar(x, top5.product_sold)\n",
    "plt.xticks(x, top5.product_name, rotation='vertical')\n",
    "plt.title('TOP 5')\n",
    "plt.ylabel('Sold out')\n",
    "plt.show()"
   ]
  }
 ],
 "metadata": {
  "kernelspec": {
   "display_name": "Python 3",
   "language": "python",
   "name": "python3"
  },
  "language_info": {
   "codemirror_mode": {
    "name": "ipython",
    "version": 3
   },
   "file_extension": ".py",
   "mimetype": "text/x-python",
   "name": "python",
   "nbconvert_exporter": "python",
   "pygments_lexer": "ipython3",
   "version": "3.10.2"
  },
  "orig_nbformat": 4,
  "vscode": {
   "interpreter": {
    "hash": "fb4569285eef3a3450cb62085a5b1e0da4bce0af555edc33dcf29baf3acc1368"
   }
  }
 },
 "nbformat": 4,
 "nbformat_minor": 2
}
