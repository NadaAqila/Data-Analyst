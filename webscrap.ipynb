{
 "cells": [
  {
   "cell_type": "code",
   "execution_count": 1,
   "metadata": {},
   "outputs": [],
   "source": [
    "import pandas as pd\n",
    "from bs4 import BeautifulSoup\n",
    "from selenium import webdriver\n",
    "from selenium.webdriver.chrome.options import Options\n",
    "from selenium.webdriver.chrome.service import Service\n",
    "import time"
   ]
  },
  {
   "attachments": {},
   "cell_type": "markdown",
   "metadata": {},
   "source": [
    "<h1> WEB Scraping"
   ]
  },
  {
   "cell_type": "code",
   "execution_count": 2,
   "metadata": {},
   "outputs": [],
   "source": [
    "#Customize Chrome Display\n",
    "chrome_options = webdriver.ChromeOptions()\n",
    "chrome_options.add_argument('--headless')\n",
    "\n",
    "chrome_service = Service('chromedriver.exe')\n",
    "driver = webdriver.Chrome(service=chrome_service, options=chrome_options)\n",
    "\n",
    "#Link\n",
    "url = \"https://shopee.co.id/adidasindonesia\"\n",
    "driver.get(url)\n",
    "content = driver.page_source\n"
   ]
  },
  {
   "cell_type": "code",
   "execution_count": 3,
   "metadata": {},
   "outputs": [],
   "source": [
    "data = BeautifulSoup(content, 'html.parser')\n"
   ]
  },
  {
   "cell_type": "code",
   "execution_count": 4,
   "metadata": {},
   "outputs": [
    {
     "data": {
      "text/plain": [
       "'adidas RUNNING Sepatu Ultraboost 20 FV8319'"
      ]
     },
     "execution_count": 4,
     "metadata": {},
     "output_type": "execute_result"
    }
   ],
   "source": [
    "#Product Name\n",
    "product_name = data.find_all('div', class_=\"_16lgia _3UdQUf _3Q4n5M\")\n",
    "product_name[0].get_text()"
   ]
  },
  {
   "cell_type": "code",
   "execution_count": 5,
   "metadata": {},
   "outputs": [
    {
     "data": {
      "text/plain": [
       "'Rp'"
      ]
     },
     "execution_count": 5,
     "metadata": {},
     "output_type": "execute_result"
    }
   ],
   "source": [
    "#Product Currency\n",
    "product_currency = data.find_all('span', class_=\"XpPXqD\")\n",
    "product_currency[0].get_text()"
   ]
  },
  {
   "cell_type": "code",
   "execution_count": 6,
   "metadata": {},
   "outputs": [
    {
     "data": {
      "text/plain": [
       "'1.500.000'"
      ]
     },
     "execution_count": 6,
     "metadata": {},
     "output_type": "execute_result"
    }
   ],
   "source": [
    "#Product Price\n",
    "product_price = data.find_all('span', class_=\"_2Ul3BO\")\n",
    "product_price[0].get_text()"
   ]
  },
  {
   "cell_type": "code",
   "execution_count": 7,
   "metadata": {},
   "outputs": [
    {
     "data": {
      "text/plain": [
       "'17 Terjual'"
      ]
     },
     "execution_count": 7,
     "metadata": {},
     "output_type": "execute_result"
    }
   ],
   "source": [
    "#Product Sold Out\n",
    "product_sold = data.find_all('div', class_=\"_36z98S _2uoHuo\")\n",
    "product_sold[0].get_text()"
   ]
  },
  {
   "cell_type": "code",
   "execution_count": 8,
   "metadata": {},
   "outputs": [],
   "source": [
    "#Looping\n",
    "product_name, product_currency, product_price, product_sold = [], [], [], []\n",
    "\n",
    "#Product Name\n",
    "for i in data.find_all('div', class_=\"_16lgia _3UdQUf _3Q4n5M\"):\n",
    "    product_name.append(i.text)\n",
    "\n",
    "#Product Currency\n",
    "for i in data.find_all('span', class_=\"XpPXqD\"):\n",
    "    product_currency.append(i.text)\n",
    "\n",
    "#Product Price\n",
    "for i in data.find_all('span', class_=\"_2Ul3BO\"):\n",
    "    product_price.append(i.text)\n",
    "\n",
    "#Product Sold Out\n",
    "for i in data.find_all('div', class_=\"_36z98S _2uoHuo\"):\n",
    "    product_sold.append(i.text)"
   ]
  },
  {
   "cell_type": "code",
   "execution_count": 9,
   "metadata": {},
   "outputs": [
    {
     "data": {
      "text/plain": [
       "54"
      ]
     },
     "execution_count": 9,
     "metadata": {},
     "output_type": "execute_result"
    }
   ],
   "source": [
    "len(product_name)"
   ]
  },
  {
   "cell_type": "code",
   "execution_count": 10,
   "metadata": {},
   "outputs": [
    {
     "data": {
      "text/plain": [
       "['adidas RUNNING Sepatu Ultraboost 20 FV8319',\n",
       " 'adidas ORIGINALS ZX 2K Boost Pure Shoes Sneaker H06568',\n",
       " 'adidas RUNNING Galaxar Run Shoes FW1187',\n",
       " 'adidas RUNNING Sepatu Run Falcon 2.0 FY5943',\n",
       " 'adidas ORIGINALS Sepatu Swift Run Sneaker B37725',\n",
       " 'adidas SKATEBOARDING Sepatu Daily 3.0 FW7033',\n",
       " 'adidas FOOTBALL/SOCCER Argentina Away Jersey Biru GE5473',\n",
       " 'adidas FOOTBALL/SOCCER Jersey Manchester United Home 20/21 Pria Merah GC7958',\n",
       " 'adidas RUNNING Own the Run T-Shirt Pria Hitam FS9799',\n",
       " 'adidas ORIGINALS Hoodie Love Unites (Uniseks) H43970',\n",
       " 'adidas ORIGINALS Track Top Colorblock adidas SPRT Pria Abu-abu H06765',\n",
       " 'adidas FOOTBALL/SOCCER Real Madrid Graphic Track Top Pria Hitam GL0040',\n",
       " 'adidas RUNNING Sepatu Cloudfoam Pure 2.0 GV7307',\n",
       " 'adidas RUNNING Sepatu Climacool Ventania FZ1744',\n",
       " 'adidas RUNNING Sepatu Pureboost 21 GY5111',\n",
       " 'adidas RUNNING Sepatu X9000L3 HEAT.RDY Putih FY0802',\n",
       " 'adidas RUNNING Sepatu Run Falcon 2.0 FY5946',\n",
       " 'adidas RUNNING Ultraboost 5.0 DNA Shoes GZ0446',\n",
       " 'adidas ORIGINALS R.Y.V. Windbreaker GN4285',\n",
       " 'adidas RUNNING T-Shirt Primeknit GK3754',\n",
       " 'adidas ORIGINALS Track Pants Primeblue SST GD2361',\n",
       " 'adidas ORIGINALS Playsuit Adicolor Classics H37784',\n",
       " 'adidas Hoodie Full-Zip Logo Essentials Kecil GR9606',\n",
       " 'adidas Sweatshirt Crew adidas Sportswear X-City GT9753',\n",
       " 'adidas TENNIS Grand Court Base Shoes EE7968',\n",
       " 'adidas RUNNING Sepatu Duramo SL FW7391',\n",
       " 'adidas RUNNING Sepatu Duramo SL GV7124',\n",
       " 'adidas TENNIS Sepatu Breaknet Court Lifestyle GX7213',\n",
       " 'adidas BASKETBALL Sepatu Entrap Pria Putih FZ1119',\n",
       " 'adidas RUNNING Sepatu Galaxy 6 Biru GW4145',\n",
       " 'adidas RUNNING Sepatu Showtheway 2.0 GY6347',\n",
       " 'adidas RUNNING Sepatu Showtheway 2.0 Unisex Hitam GY6348',\n",
       " 'adidas TENNIS Sepatu Grand Court Cloudfoam Lifestyle Court Comfort GW9195',\n",
       " 'adidas SWIM Slides Adilette Aqua GX4277',\n",
       " 'adidas RUNNING Sepatu Galaxy 6 GW4146',\n",
       " 'adidas TRAINING Tas Ransel Sport Pad HT2450',\n",
       " 'adidas TENNIS Sepatu Grand Court Cloudfoam Lifestyle Court Comfort Pria Hitam GW9196',\n",
       " 'adidas TENNIS Sepatu Lifestyle Court Comfort Style Grand Court Alpha Cloudfoam GY7118',\n",
       " 'adidas RUNNING Sepatu Galaxy 6 GW3848',\n",
       " 'adidas ORIGINALS Sepatu Forum Bold Sneaker FY9042',\n",
       " 'adidas RUNNING Sepatu EQ21 Run Abu-abu H00519',\n",
       " 'adidas RUNNING EQ19 Run Shoes H02040',\n",
       " 'adidas ORIGINALS SUPERSTAR SHOES Sneaker EG4959',\n",
       " 'adidas RUNNING Sepatu Showtheway 2.0 GY4702',\n",
       " 'adidas Classic Badge of Sport Backpack H34809',\n",
       " 'adidas Must Haves 3-Stripes Windbreaker GF3962',\n",
       " 'adidas TENNIS Sepatu Advantage GZ5300',\n",
       " 'adidas RUNNING Sepatu Ultraboost 4.0 DNA FY9319',\n",
       " 'adidas ORIGINALS Sepatu Treziod 2 Hijau Sneaker GY0045',\n",
       " 'adidas RUNNING Sepatu Galaxy 6 GW4138',\n",
       " 'adidas ORIGINALS Superstar Shoes Sneaker EF5398',\n",
       " 'adidas Essentials Camouflage Print T-Shirt GV5237',\n",
       " 'adidas ORIGINALS Track Jacket Adicolor Classics Firebird GN3521',\n",
       " 'adidas TENNIS Sepatu Grand Court SE FW3277']"
      ]
     },
     "execution_count": 10,
     "metadata": {},
     "output_type": "execute_result"
    }
   ],
   "source": [
    "product_name"
   ]
  },
  {
   "cell_type": "code",
   "execution_count": 11,
   "metadata": {},
   "outputs": [],
   "source": [
    "#Page\n",
    "product_name, product_currency, product_price, product_sold = [], [], [], []\n",
    "\n",
    "for page in range(0, 4):\n",
    "    url = 'https://shopee.co.id/adidasindonesia?page={}&sortBy=pop'.format(page)\n",
    "    driver.get(url)\n",
    "\n",
    "    #Product Name\n",
    "    for i in data.find_all('div', class_=\"_16lgia _3UdQUf _3Q4n5M\"):\n",
    "        product_name.append(i.text)\n",
    "\n",
    "    #Product Currency\n",
    "    for i in data.find_all('span', class_=\"XpPXqD\"):\n",
    "        product_currency.append(i.text)\n",
    "\n",
    "    #Product Price\n",
    "    for i in data.find_all('span', class_=\"_2Ul3BO\"):\n",
    "        product_price.append(i.text)\n",
    "\n",
    "    #Product Sold Out\n",
    "    for i in data.find_all('div', class_=\"_36z98S _2uoHuo\"):\n",
    "        product_sold.append(i.text)"
   ]
  },
  {
   "cell_type": "code",
   "execution_count": 12,
   "metadata": {},
   "outputs": [
    {
     "data": {
      "text/plain": [
       "216"
      ]
     },
     "execution_count": 12,
     "metadata": {},
     "output_type": "execute_result"
    }
   ],
   "source": [
    "len(product_name)"
   ]
  },
  {
   "cell_type": "code",
   "execution_count": 13,
   "metadata": {},
   "outputs": [],
   "source": [
    "#Saving Data\n",
    "column = ['product_name', 'product_currency', 'product_price', 'product_sold']\n",
    "dictionary = dict(zip(column, (product_name, product_currency, product_price, product_sold)))"
   ]
  },
  {
   "cell_type": "code",
   "execution_count": 14,
   "metadata": {},
   "outputs": [
    {
     "data": {
      "text/html": [
       "<div>\n",
       "<style scoped>\n",
       "    .dataframe tbody tr th:only-of-type {\n",
       "        vertical-align: middle;\n",
       "    }\n",
       "\n",
       "    .dataframe tbody tr th {\n",
       "        vertical-align: top;\n",
       "    }\n",
       "\n",
       "    .dataframe thead th {\n",
       "        text-align: right;\n",
       "    }\n",
       "</style>\n",
       "<table border=\"1\" class=\"dataframe\">\n",
       "  <thead>\n",
       "    <tr style=\"text-align: right;\">\n",
       "      <th></th>\n",
       "      <th>product_name</th>\n",
       "      <th>product_currency</th>\n",
       "      <th>product_price</th>\n",
       "      <th>product_sold</th>\n",
       "    </tr>\n",
       "  </thead>\n",
       "  <tbody>\n",
       "    <tr>\n",
       "      <th>0</th>\n",
       "      <td>adidas RUNNING Sepatu Ultraboost 20 FV8319</td>\n",
       "      <td>Rp</td>\n",
       "      <td>1.500.000</td>\n",
       "      <td>17 Terjual</td>\n",
       "    </tr>\n",
       "    <tr>\n",
       "      <th>1</th>\n",
       "      <td>adidas ORIGINALS ZX 2K Boost Pure Shoes Sneake...</td>\n",
       "      <td>Rp</td>\n",
       "      <td>1.650.000</td>\n",
       "      <td>165 Terjual</td>\n",
       "    </tr>\n",
       "    <tr>\n",
       "      <th>2</th>\n",
       "      <td>adidas RUNNING Galaxar Run Shoes FW1187</td>\n",
       "      <td>Rp</td>\n",
       "      <td>1.300.000</td>\n",
       "      <td>109 Terjual</td>\n",
       "    </tr>\n",
       "    <tr>\n",
       "      <th>3</th>\n",
       "      <td>adidas RUNNING Sepatu Run Falcon 2.0 FY5943</td>\n",
       "      <td>Rp</td>\n",
       "      <td>850.000</td>\n",
       "      <td>650 Terjual</td>\n",
       "    </tr>\n",
       "    <tr>\n",
       "      <th>4</th>\n",
       "      <td>adidas ORIGINALS Sepatu Swift Run Sneaker B37725</td>\n",
       "      <td>Rp</td>\n",
       "      <td>750.000</td>\n",
       "      <td>96 Terjual</td>\n",
       "    </tr>\n",
       "  </tbody>\n",
       "</table>\n",
       "</div>"
      ],
      "text/plain": [
       "                                        product_name product_currency  \\\n",
       "0         adidas RUNNING Sepatu Ultraboost 20 FV8319               Rp   \n",
       "1  adidas ORIGINALS ZX 2K Boost Pure Shoes Sneake...               Rp   \n",
       "2            adidas RUNNING Galaxar Run Shoes FW1187               Rp   \n",
       "3        adidas RUNNING Sepatu Run Falcon 2.0 FY5943               Rp   \n",
       "4   adidas ORIGINALS Sepatu Swift Run Sneaker B37725               Rp   \n",
       "\n",
       "  product_price product_sold  \n",
       "0     1.500.000   17 Terjual  \n",
       "1     1.650.000  165 Terjual  \n",
       "2     1.300.000  109 Terjual  \n",
       "3       850.000  650 Terjual  \n",
       "4       750.000   96 Terjual  "
      ]
     },
     "execution_count": 14,
     "metadata": {},
     "output_type": "execute_result"
    }
   ],
   "source": [
    "#Convert to DataFrame\n",
    "df = pd.DataFrame(data = dictionary)\n",
    "df.head()"
   ]
  },
  {
   "cell_type": "code",
   "execution_count": 16,
   "metadata": {},
   "outputs": [],
   "source": [
    "df.to_csv('adidas_data.csv', index=False)"
   ]
  }
 ],
 "metadata": {
  "kernelspec": {
   "display_name": "Python 3",
   "language": "python",
   "name": "python3"
  },
  "language_info": {
   "codemirror_mode": {
    "name": "ipython",
    "version": 3
   },
   "file_extension": ".py",
   "mimetype": "text/x-python",
   "name": "python",
   "nbconvert_exporter": "python",
   "pygments_lexer": "ipython3",
   "version": "3.10.2"
  },
  "orig_nbformat": 4,
  "vscode": {
   "interpreter": {
    "hash": "fb4569285eef3a3450cb62085a5b1e0da4bce0af555edc33dcf29baf3acc1368"
   }
  }
 },
 "nbformat": 4,
 "nbformat_minor": 2
}
